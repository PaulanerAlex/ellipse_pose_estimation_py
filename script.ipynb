{
 "cells": [
  {
   "cell_type": "markdown",
   "id": "f7472f19",
   "metadata": {},
   "source": [
    "## Train Model"
   ]
  },
  {
   "cell_type": "code",
   "execution_count": null,
   "id": "283ecadc",
   "metadata": {},
   "outputs": [],
   "source": [
    "\n",
    "from ultralytics import YOLO\n",
    "\n",
    "# Load a pretrained model\n",
    "model = YOLO(\"yolo11s-obb.pt\")\n",
    "\n",
    "# Train the model on the custom dataset\n",
    "results = model.train(data=\"dataset/ellipse_recognition/ellipse_recognition.yml\", epochs=250, imgsz=640)\n"
   ]
  },
  {
   "cell_type": "markdown",
   "id": "886c0952",
   "metadata": {},
   "source": [
    "## Convert the model to ONNX format for use in C++"
   ]
  },
  {
   "cell_type": "code",
   "execution_count": 1,
   "id": "b1300e50",
   "metadata": {},
   "outputs": [
    {
     "name": "stdout",
     "output_type": "stream",
     "text": [
      "Ultralytics 8.3.113  Python-3.10.7 torch-2.7.0+cu118 CPU (12th Gen Intel Core(TM) i7-12700H)\n",
      "YOLO11s-obb summary (fused): 109 layers, 9,699,174 parameters, 0 gradients, 22.3 GFLOPs\n",
      "\n",
      "\u001b[34m\u001b[1mPyTorch:\u001b[0m starting from 'runs\\obb\\train11\\weights\\best.pt' with input shape (1, 3, 640, 640) BCHW and output shape(s) (1, 6, 8400) (19.0 MB)\n",
      "\u001b[31m\u001b[1mrequirements:\u001b[0m Ultralytics requirements ['onnx>=1.12.0', 'onnxslim', 'onnxruntime'] not found, attempting AutoUpdate...\n",
      "Collecting onnx>=1.12.0\n",
      "  Downloading onnx-1.17.0-cp310-cp310-win_amd64.whl (14.5 MB)\n",
      "     --------------------------------------- 14.5/14.5 MB 19.3 MB/s eta 0:00:00\n",
      "Collecting onnxslim\n",
      "  Downloading onnxslim-0.1.50-py3-none-any.whl (144 kB)\n",
      "     ---------------------------------------- 144.5/144.5 kB ? eta 0:00:00\n",
      "Collecting onnxruntime\n",
      "  Downloading onnxruntime-1.21.1-cp310-cp310-win_amd64.whl (12.3 MB)\n",
      "     --------------------------------------- 12.3/12.3 MB 18.2 MB/s eta 0:00:00\n",
      "Requirement already satisfied: numpy>=1.20 in c:\\users\\paul\\dev\\projects\\main\\akamav\\ellipse_pose_estimation_py\\env\\lib\\site-packages (from onnx>=1.12.0) (2.1.1)\n",
      "Collecting protobuf>=3.20.2\n",
      "  Downloading protobuf-6.30.2-cp310-abi3-win_amd64.whl (431 kB)\n",
      "     ------------------------------------- 431.0/431.0 kB 28.1 MB/s eta 0:00:00\n",
      "Requirement already satisfied: sympy in c:\\users\\paul\\dev\\projects\\main\\akamav\\ellipse_pose_estimation_py\\env\\lib\\site-packages (from onnxslim) (1.13.3)\n",
      "Requirement already satisfied: packaging in c:\\users\\paul\\dev\\projects\\main\\akamav\\ellipse_pose_estimation_py\\env\\lib\\site-packages (from onnxslim) (25.0)\n",
      "Collecting coloredlogs\n",
      "  Downloading coloredlogs-15.0.1-py2.py3-none-any.whl (46 kB)\n",
      "     ---------------------------------------- 46.0/46.0 kB ? eta 0:00:00\n",
      "Collecting flatbuffers\n",
      "  Downloading flatbuffers-25.2.10-py2.py3-none-any.whl (30 kB)\n",
      "Collecting humanfriendly>=9.1\n",
      "  Downloading humanfriendly-10.0-py2.py3-none-any.whl (86 kB)\n",
      "     ---------------------------------------- 86.8/86.8 kB ? eta 0:00:00\n",
      "Requirement already satisfied: mpmath<1.4,>=1.1.0 in c:\\users\\paul\\dev\\projects\\main\\akamav\\ellipse_pose_estimation_py\\env\\lib\\site-packages (from sympy->onnxslim) (1.3.0)\n",
      "Collecting pyreadline3\n",
      "  Downloading pyreadline3-3.5.4-py3-none-any.whl (83 kB)\n",
      "     ---------------------------------------- 83.2/83.2 kB ? eta 0:00:00\n",
      "Installing collected packages: flatbuffers, pyreadline3, protobuf, onnx, humanfriendly, onnxslim, coloredlogs, onnxruntime\n",
      "Successfully installed coloredlogs-15.0.1 flatbuffers-25.2.10 humanfriendly-10.0 onnx-1.17.0 onnxruntime-1.21.1 onnxslim-0.1.50 protobuf-6.30.2 pyreadline3-3.5.4\n",
      "\n",
      "\u001b[31m\u001b[1mrequirements:\u001b[0m AutoUpdate success  17.8s, installed 3 packages: ['onnx>=1.12.0', 'onnxslim', 'onnxruntime']\n",
      "WARNING \u001b[31m\u001b[1mrequirements:\u001b[0m \u001b[1mRestart runtime or rerun command for updates to take effect\u001b[0m\n",
      "\n",
      "\n",
      "\u001b[34m\u001b[1mONNX:\u001b[0m starting export with onnx 1.17.0 opset 19...\n",
      "\u001b[34m\u001b[1mONNX:\u001b[0m slimming with onnxslim 0.1.50...\n",
      "\u001b[34m\u001b[1mONNX:\u001b[0m export success  21.1s, saved as 'runs\\obb\\train11\\weights\\best.onnx' (37.2 MB)\n",
      "\n",
      "Export complete (22.1s)\n",
      "Results saved to \u001b[1mC:\\Users\\Paul\\dev\\projects\\main\\AKAMAV\\ellipse_pose_estimation_py\\runs\\obb\\train11\\weights\u001b[0m\n",
      "Predict:         yolo predict task=obb model=runs\\obb\\train11\\weights\\best.onnx imgsz=640  \n",
      "Validate:        yolo val task=obb model=runs\\obb\\train11\\weights\\best.onnx imgsz=640 data=dataset/ellipse_recognition/ellipse_recognition.yml  \n",
      "Visualize:       https://netron.app\n"
     ]
    },
    {
     "data": {
      "text/plain": [
       "'runs\\\\obb\\\\train11\\\\weights\\\\best.onnx'"
      ]
     },
     "execution_count": 1,
     "metadata": {},
     "output_type": "execute_result"
    }
   ],
   "source": [
    "from ultralytics import YOLO # if not already imported\n",
    "\n",
    "training_run = 11\n",
    "\n",
    "model = YOLO(f'runs/obb/train{str(training_run)}/weights/best.pt')\n",
    "\n",
    "model.export(format='onnx')"
   ]
  }
 ],
 "metadata": {
  "kernelspec": {
   "display_name": "env",
   "language": "python",
   "name": "python3"
  },
  "language_info": {
   "codemirror_mode": {
    "name": "ipython",
    "version": 3
   },
   "file_extension": ".py",
   "mimetype": "text/x-python",
   "name": "python",
   "nbconvert_exporter": "python",
   "pygments_lexer": "ipython3",
   "version": "3.10.7"
  }
 },
 "nbformat": 4,
 "nbformat_minor": 5
}
