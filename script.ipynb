{
 "cells": [
  {
   "cell_type": "markdown",
   "id": "f7472f19",
   "metadata": {},
   "source": [
    "## Train Model"
   ]
  },
  {
   "cell_type": "code",
   "execution_count": null,
   "id": "283ecadc",
   "metadata": {},
   "outputs": [],
   "source": [
    "\n",
    "from ultralytics import YOLO\n",
    "\n",
    "# Load a pretrained model\n",
    "model = YOLO(\"yolo11s-obb.pt\")\n",
    "\n",
    "# Train the model on the custom dataset\n",
    "results = model.train(data=\"dataset/ellipse_recognition/ellipse_recognition.yml\", epochs=250, imgsz=640)\n"
   ]
  },
  {
   "cell_type": "markdown",
   "id": "886c0952",
   "metadata": {},
   "source": [
    "## Convert the model to ONNX format for use in C++"
   ]
  },
  {
   "cell_type": "code",
   "execution_count": null,
   "id": "b1300e50",
   "metadata": {},
   "outputs": [],
   "source": [
    "from ultralytics import YOLO # if not already imported\n",
    "\n",
    "training_run = 11\n",
    "\n",
    "model = YOLO(f'runs/obb/train{str(training_run)}/weights/best.pt')\n",
    "\n",
    "model.export(format='onnx')"
   ]
  }
 ],
 "metadata": {
  "kernelspec": {
   "display_name": "env",
   "language": "python",
   "name": "python3"
  },
  "language_info": {
   "name": "python",
   "version": "3.10.7"
  }
 },
 "nbformat": 4,
 "nbformat_minor": 5
}
